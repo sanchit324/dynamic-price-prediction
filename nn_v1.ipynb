{
 "cells": [
  {
   "cell_type": "code",
   "execution_count": 1,
   "metadata": {},
   "outputs": [],
   "source": [
    "import pandas as pd\n",
    "import numpy as np\n",
    "from sklearn.model_selection import train_test_split\n",
    "from sklearn.preprocessing import LabelEncoder, StandardScaler, MinMaxScaler\n",
    "import tensorflow as tf\n",
    "from tensorflow.keras.layers import Input, Embedding, Flatten, Concatenate, Dense # type: ignore\n",
    "from tensorflow.keras.models import Model #type: ignore\n",
    "from sklearn.metrics import mean_squared_error, r2_score\n"
   ]
  },
  {
   "cell_type": "code",
   "execution_count": 2,
   "metadata": {},
   "outputs": [],
   "source": [
    "df = pd.read_csv('data.csv')\n",
    "df = df.drop(columns=['Unnamed: 0']) "
   ]
  },
  {
   "cell_type": "code",
   "execution_count": 3,
   "metadata": {},
   "outputs": [],
   "source": [
    "le_start = LabelEncoder()\n",
    "le_dest = LabelEncoder()\n",
    "df['start_pin'] = le_start.fit_transform(df['start_pin'])\n",
    "df['destination_pin'] = le_dest.fit_transform(df['destination_pin'])"
   ]
  },
  {
   "cell_type": "code",
   "execution_count": 4,
   "metadata": {},
   "outputs": [],
   "source": [
    "X = df.drop(columns=['amount'])\n",
    "y = df['amount']"
   ]
  },
  {
   "cell_type": "code",
   "execution_count": 5,
   "metadata": {},
   "outputs": [
    {
     "name": "stdout",
     "output_type": "stream",
     "text": [
      "   start_pin  destination_pin  travel_distance  Quantity (In TON)\n",
      "0         28             2338             1115               75.0\n",
      "1         40              231              367               13.0\n",
      "2         40              255              493               12.0\n",
      "3         40              323              304               40.0\n",
      "4         41              216              306               39.4 0    585600.00\n",
      "1    104260.01\n",
      "2     60314.40\n",
      "3    272000.00\n",
      "4    299440.50\n",
      "Name: amount, dtype: float64\n"
     ]
    }
   ],
   "source": [
    "print(X.head(), y.head())"
   ]
  },
  {
   "cell_type": "code",
   "execution_count": 6,
   "metadata": {},
   "outputs": [],
   "source": [
    "X_train, X_test, y_train, y_test = train_test_split(X, y, test_size=0.2, random_state=42)"
   ]
  },
  {
   "cell_type": "code",
   "execution_count": 7,
   "metadata": {},
   "outputs": [],
   "source": [
    "num_features = ['travel_distance', 'Quantity (In TON)']\n",
    "scaler = StandardScaler()\n",
    "X_train[num_features] = scaler.fit_transform(X_train[num_features])\n",
    "X_test[num_features] = scaler.transform(X_test[num_features])"
   ]
  },
  {
   "cell_type": "code",
   "execution_count": 8,
   "metadata": {},
   "outputs": [],
   "source": [
    "y_scaler = StandardScaler()\n",
    "y_train_scaled = y_scaler.fit_transform(y_train.values.reshape(-1, 1))\n",
    "y_test_scaled = y_scaler.transform(y_test.values.reshape(-1, 1))\n"
   ]
  },
  {
   "cell_type": "code",
   "execution_count": 9,
   "metadata": {},
   "outputs": [],
   "source": [
    "num_start_pins = df['start_pin'].nunique()\n",
    "num_dest_pins = df['destination_pin'].nunique()\n",
    "embedding_dim = 64"
   ]
  },
  {
   "cell_type": "code",
   "execution_count": 10,
   "metadata": {},
   "outputs": [],
   "source": [
    "start_embed_dim = min(8, int(np.power(num_start_pins, 0.25)))\n",
    "dest_embed_dim = min(16, int(np.power(num_dest_pins, 0.25)))"
   ]
  },
  {
   "cell_type": "code",
   "execution_count": 11,
   "metadata": {},
   "outputs": [],
   "source": [
    "start_pin_input = Input(shape=(1,), name='start_pin')\n",
    "dest_pin_input = Input(shape=(1,), name='destination_pin')\n",
    "numerical_input = Input(shape=(2,), name='numerical_data')"
   ]
  },
  {
   "cell_type": "code",
   "execution_count": 12,
   "metadata": {},
   "outputs": [],
   "source": [
    "start_embedding = Embedding(input_dim=num_start_pins + 1, output_dim=start_embed_dim)(start_pin_input)\n",
    "dest_embedding = Embedding(input_dim=num_dest_pins + 1,output_dim=dest_embed_dim)(dest_pin_input)"
   ]
  },
  {
   "cell_type": "code",
   "execution_count": 13,
   "metadata": {},
   "outputs": [
    {
     "data": {
      "text/plain": [
       "<KerasTensor: shape=(None, 1, 6) dtype=float32 (created by layer 'embedding')>"
      ]
     },
     "execution_count": 13,
     "metadata": {},
     "output_type": "execute_result"
    }
   ],
   "source": [
    "start_embedding"
   ]
  },
  {
   "cell_type": "code",
   "execution_count": 14,
   "metadata": {},
   "outputs": [],
   "source": [
    "start_flat = Flatten()(start_embedding)\n",
    "dest_flat  = Flatten()(dest_embedding)"
   ]
  },
  {
   "cell_type": "code",
   "execution_count": 15,
   "metadata": {},
   "outputs": [],
   "source": [
    "x = Concatenate()([start_flat, dest_flat, numerical_input])"
   ]
  },
  {
   "cell_type": "code",
   "execution_count": 16,
   "metadata": {},
   "outputs": [],
   "source": [
    "# Increase model complexity for better feature learning\n",
    "x = Dense(128, activation='relu', kernel_regularizer=tf.keras.regularizers.l2(0.01))(x)\n",
    "x = tf.keras.layers.BatchNormalization()(x)\n",
    "x = tf.keras.layers.Dropout(0.3)(x)\n",
    "x = Dense(64, activation='relu', kernel_regularizer=tf.keras.regularizers.l2(0.01))(x)\n",
    "x = tf.keras.layers.BatchNormalization()(x)\n",
    "x = tf.keras.layers.Dropout(0.3)(x)\n",
    "x = Dense(32, activation='relu', kernel_regularizer=tf.keras.regularizers.l2(0.01))(x)\n",
    "output = Dense(1)(x)"
   ]
  },
  {
   "cell_type": "code",
   "execution_count": 17,
   "metadata": {},
   "outputs": [],
   "source": [
    "\n",
    "x = Dense(64, activation='relu', kernel_regularizer=tf.keras.regularizers.l2(0.01))(x)\n",
    "x = tf.keras.layers.BatchNormalization()(x)\n",
    "x = tf.keras.layers.Dropout(0.3)(x)\n",
    "x = Dense(32, activation='relu', kernel_regularizer=tf.keras.regularizers.l2(0.01))(x)\n",
    "x = tf.keras.layers.BatchNormalization()(x)\n",
    "x = tf.keras.layers.Dropout(0.2)(x)\n",
    "# x = Dense(32,activation='relu', kernel_regularizer=tf.keras.regularizers.l2(0.01))(x)\n",
    "# x = tf.keras.layers.BatchNormalization()(x)\n",
    "# x = tf.keras.layers.Dropout(0.2)(x)\n",
    "# x = Dense(16,activation='relu', kernel_regularizer=tf.keras.regularizers.l2(0.01))(x)\n",
    "# x = tf.keras.layers.BatchNormalization()(x)\n",
    "# x = tf.keras.layers.Dropout(0.2)(x)\n",
    "output = Dense(1)(x)"
   ]
  },
  {
   "cell_type": "code",
   "execution_count": 18,
   "metadata": {},
   "outputs": [],
   "source": [
    "early_stopping = tf.keras.callbacks.EarlyStopping(\n",
    "    monitor='val_loss',\n",
    "    patience=10,\n",
    "    restore_best_weights=True\n",
    ")"
   ]
  },
  {
   "cell_type": "code",
   "execution_count": 19,
   "metadata": {},
   "outputs": [],
   "source": [
    "model = Model(inputs=[start_pin_input, dest_pin_input, numerical_input], outputs=output)\n",
    "optimizer = tf.keras.optimizers.legacy.Adam(learning_rate=0.001)\n",
    "model.compile(optimizer=optimizer, loss='mse')"
   ]
  },
  {
   "cell_type": "code",
   "execution_count": 20,
   "metadata": {},
   "outputs": [
    {
     "name": "stdout",
     "output_type": "stream",
     "text": [
      "Model: \"model\"\n",
      "__________________________________________________________________________________________________\n",
      " Layer (type)                Output Shape                 Param #   Connected to                  \n",
      "==================================================================================================\n",
      " start_pin (InputLayer)      [(None, 1)]                  0         []                            \n",
      "                                                                                                  \n",
      " destination_pin (InputLaye  [(None, 1)]                  0         []                            \n",
      " r)                                                                                               \n",
      "                                                                                                  \n",
      " embedding (Embedding)       (None, 1, 6)                 8262      ['start_pin[0][0]']           \n",
      "                                                                                                  \n",
      " embedding_1 (Embedding)     (None, 1, 9)                 63999     ['destination_pin[0][0]']     \n",
      "                                                                                                  \n",
      " flatten (Flatten)           (None, 6)                    0         ['embedding[0][0]']           \n",
      "                                                                                                  \n",
      " flatten_1 (Flatten)         (None, 9)                    0         ['embedding_1[0][0]']         \n",
      "                                                                                                  \n",
      " numerical_data (InputLayer  [(None, 2)]                  0         []                            \n",
      " )                                                                                                \n",
      "                                                                                                  \n",
      " concatenate (Concatenate)   (None, 17)                   0         ['flatten[0][0]',             \n",
      "                                                                     'flatten_1[0][0]',           \n",
      "                                                                     'numerical_data[0][0]']      \n",
      "                                                                                                  \n",
      " dense (Dense)               (None, 128)                  2304      ['concatenate[0][0]']         \n",
      "                                                                                                  \n",
      " batch_normalization (Batch  (None, 128)                  512       ['dense[0][0]']               \n",
      " Normalization)                                                                                   \n",
      "                                                                                                  \n",
      " dropout (Dropout)           (None, 128)                  0         ['batch_normalization[0][0]'] \n",
      "                                                                                                  \n",
      " dense_1 (Dense)             (None, 64)                   8256      ['dropout[0][0]']             \n",
      "                                                                                                  \n",
      " batch_normalization_1 (Bat  (None, 64)                   256       ['dense_1[0][0]']             \n",
      " chNormalization)                                                                                 \n",
      "                                                                                                  \n",
      " dropout_1 (Dropout)         (None, 64)                   0         ['batch_normalization_1[0][0]'\n",
      "                                                                    ]                             \n",
      "                                                                                                  \n",
      " dense_2 (Dense)             (None, 32)                   2080      ['dropout_1[0][0]']           \n",
      "                                                                                                  \n",
      " dense_4 (Dense)             (None, 64)                   2112      ['dense_2[0][0]']             \n",
      "                                                                                                  \n",
      " batch_normalization_2 (Bat  (None, 64)                   256       ['dense_4[0][0]']             \n",
      " chNormalization)                                                                                 \n",
      "                                                                                                  \n",
      " dropout_2 (Dropout)         (None, 64)                   0         ['batch_normalization_2[0][0]'\n",
      "                                                                    ]                             \n",
      "                                                                                                  \n",
      " dense_5 (Dense)             (None, 32)                   2080      ['dropout_2[0][0]']           \n",
      "                                                                                                  \n",
      " batch_normalization_3 (Bat  (None, 32)                   128       ['dense_5[0][0]']             \n",
      " chNormalization)                                                                                 \n",
      "                                                                                                  \n",
      " dropout_3 (Dropout)         (None, 32)                   0         ['batch_normalization_3[0][0]'\n",
      "                                                                    ]                             \n",
      "                                                                                                  \n",
      " dense_6 (Dense)             (None, 1)                    33        ['dropout_3[0][0]']           \n",
      "                                                                                                  \n",
      "==================================================================================================\n",
      "Total params: 90278 (352.65 KB)\n",
      "Trainable params: 89702 (350.40 KB)\n",
      "Non-trainable params: 576 (2.25 KB)\n",
      "__________________________________________________________________________________________________\n"
     ]
    }
   ],
   "source": [
    "model.summary()"
   ]
  },
  {
   "cell_type": "code",
   "execution_count": 21,
   "metadata": {},
   "outputs": [],
   "source": [
    "train_inputs = [\n",
    "    X_train['start_pin'].values,               \n",
    "    X_train['destination_pin'].values,        \n",
    "    X_train[num_features].values             \n",
    "]"
   ]
  },
  {
   "cell_type": "code",
   "execution_count": 22,
   "metadata": {},
   "outputs": [],
   "source": [
    "test_inputs = [\n",
    "    X_test['start_pin'].values,\n",
    "    X_test['destination_pin'].values,\n",
    "    X_test[num_features].values\n",
    "]"
   ]
  },
  {
   "cell_type": "code",
   "execution_count": 23,
   "metadata": {},
   "outputs": [
    {
     "name": "stdout",
     "output_type": "stream",
     "text": [
      "Epoch 1/100\n",
      "772/772 [==============================] - 8s 8ms/step - loss: 3.2225 - val_loss: 2.6522\n",
      "Epoch 2/100\n",
      "772/772 [==============================] - 8s 10ms/step - loss: 2.1642 - val_loss: 1.9895\n",
      "Epoch 3/100\n",
      "772/772 [==============================] - 3s 4ms/step - loss: 1.6148 - val_loss: 1.5236\n",
      "Epoch 4/100\n",
      "772/772 [==============================] - 3s 4ms/step - loss: 1.3038 - val_loss: 1.3387\n",
      "Epoch 5/100\n",
      "772/772 [==============================] - 2s 3ms/step - loss: 1.1627 - val_loss: 1.2101\n",
      "Epoch 6/100\n",
      "772/772 [==============================] - 2s 2ms/step - loss: 1.0880 - val_loss: 1.1715\n",
      "Epoch 7/100\n",
      "772/772 [==============================] - 2s 2ms/step - loss: 1.0546 - val_loss: 1.1446\n",
      "Epoch 8/100\n",
      "772/772 [==============================] - 2s 2ms/step - loss: 1.0204 - val_loss: 1.1341\n",
      "Epoch 9/100\n",
      "772/772 [==============================] - 2s 3ms/step - loss: 1.0216 - val_loss: 1.1171\n",
      "Epoch 10/100\n",
      "772/772 [==============================] - 3s 3ms/step - loss: 1.0144 - val_loss: 1.1297\n",
      "Epoch 11/100\n",
      "772/772 [==============================] - 2s 3ms/step - loss: 1.0062 - val_loss: 2.2453\n",
      "Epoch 12/100\n",
      "772/772 [==============================] - 2s 3ms/step - loss: 0.9928 - val_loss: 1.1137\n",
      "Epoch 13/100\n",
      "772/772 [==============================] - 1s 2ms/step - loss: 0.9973 - val_loss: 1.1007\n",
      "Epoch 14/100\n",
      "772/772 [==============================] - 1s 2ms/step - loss: 0.9987 - val_loss: 1.1074\n",
      "Epoch 15/100\n",
      "772/772 [==============================] - 1s 2ms/step - loss: 0.9960 - val_loss: 1.0940\n",
      "Epoch 16/100\n",
      "772/772 [==============================] - 1s 2ms/step - loss: 0.9928 - val_loss: 1.1058\n",
      "Epoch 17/100\n",
      "772/772 [==============================] - 1s 2ms/step - loss: 0.9972 - val_loss: 1.0907\n",
      "Epoch 18/100\n",
      "772/772 [==============================] - 2s 3ms/step - loss: 0.9896 - val_loss: 1.1451\n",
      "Epoch 19/100\n",
      "772/772 [==============================] - 1s 2ms/step - loss: 0.9940 - val_loss: 1.0976\n",
      "Epoch 20/100\n",
      "772/772 [==============================] - 2s 2ms/step - loss: 0.9875 - val_loss: 1.0461\n",
      "Epoch 21/100\n",
      "772/772 [==============================] - 2s 2ms/step - loss: 0.9840 - val_loss: 1.1645\n",
      "Epoch 22/100\n",
      "772/772 [==============================] - 1s 2ms/step - loss: 0.9964 - val_loss: 1.1286\n",
      "Epoch 23/100\n",
      "772/772 [==============================] - 1s 2ms/step - loss: 0.9930 - val_loss: 1.0753\n",
      "Epoch 24/100\n",
      "772/772 [==============================] - 2s 2ms/step - loss: 1.0001 - val_loss: 1.1313\n",
      "Epoch 25/100\n",
      "772/772 [==============================] - 1s 2ms/step - loss: 0.9883 - val_loss: 3.2890\n",
      "Epoch 26/100\n",
      "772/772 [==============================] - 1s 2ms/step - loss: 1.0068 - val_loss: 0.9996\n",
      "Epoch 27/100\n",
      "772/772 [==============================] - 1s 2ms/step - loss: 0.9987 - val_loss: 0.9653\n",
      "Epoch 28/100\n",
      "772/772 [==============================] - 1s 2ms/step - loss: 0.9830 - val_loss: 0.8484\n",
      "Epoch 29/100\n",
      "772/772 [==============================] - 1s 2ms/step - loss: 0.9820 - val_loss: 1.6245\n",
      "Epoch 30/100\n",
      "772/772 [==============================] - 1s 2ms/step - loss: 0.9803 - val_loss: 1.6557\n",
      "Epoch 31/100\n",
      "772/772 [==============================] - 1s 2ms/step - loss: 0.9865 - val_loss: 1.2318\n",
      "Epoch 32/100\n",
      "772/772 [==============================] - 1s 2ms/step - loss: 0.9854 - val_loss: 1.0475\n",
      "Epoch 33/100\n",
      "772/772 [==============================] - 1s 2ms/step - loss: 0.9849 - val_loss: 2.2592\n",
      "Epoch 34/100\n",
      "772/772 [==============================] - 1s 2ms/step - loss: 0.9894 - val_loss: 1.2970\n",
      "Epoch 35/100\n",
      "772/772 [==============================] - 2s 2ms/step - loss: 0.9574 - val_loss: 5.4537\n",
      "Epoch 36/100\n",
      "772/772 [==============================] - 1s 2ms/step - loss: 0.9713 - val_loss: 0.6244\n",
      "Epoch 37/100\n",
      "772/772 [==============================] - 1s 2ms/step - loss: 0.9496 - val_loss: 2.9991\n",
      "Epoch 38/100\n",
      "772/772 [==============================] - 2s 2ms/step - loss: 0.9679 - val_loss: 1.9233\n",
      "Epoch 39/100\n",
      "772/772 [==============================] - 3s 4ms/step - loss: 0.9259 - val_loss: 1.0565\n",
      "Epoch 40/100\n",
      "772/772 [==============================] - 2s 2ms/step - loss: 0.8451 - val_loss: 1.3781\n",
      "Epoch 41/100\n",
      "772/772 [==============================] - 2s 2ms/step - loss: 0.8771 - val_loss: 226.6447\n",
      "Epoch 42/100\n",
      "772/772 [==============================] - 2s 2ms/step - loss: 0.8865 - val_loss: 20.3158\n",
      "Epoch 43/100\n",
      "772/772 [==============================] - 1s 2ms/step - loss: 0.8018 - val_loss: 51.4345\n",
      "Epoch 44/100\n",
      "772/772 [==============================] - 2s 2ms/step - loss: 0.8369 - val_loss: 12.0706\n",
      "Epoch 45/100\n",
      "772/772 [==============================] - 2s 2ms/step - loss: 0.8845 - val_loss: 163.9541\n",
      "Epoch 46/100\n",
      "772/772 [==============================] - 2s 2ms/step - loss: 0.8982 - val_loss: 26.0142\n"
     ]
    }
   ],
   "source": [
    "history = model.fit(\n",
    "    train_inputs, \n",
    "    y_train_scaled,\n",
    "    validation_data=(test_inputs, y_test_scaled),\n",
    "    epochs=100,\n",
    "    batch_size=32,\n",
    "    callbacks=[early_stopping]\n",
    ")"
   ]
  },
  {
   "cell_type": "code",
   "execution_count": 24,
   "metadata": {},
   "outputs": [
    {
     "name": "stdout",
     "output_type": "stream",
     "text": [
      "193/193 [==============================] - 0s 684us/step\n"
     ]
    }
   ],
   "source": [
    "predictions = model.predict(test_inputs)\n",
    "predictions_original = y_scaler.inverse_transform(predictions)"
   ]
  },
  {
   "cell_type": "code",
   "execution_count": 25,
   "metadata": {},
   "outputs": [
    {
     "data": {
      "text/plain": [
       "array([[-0.0437351],\n",
       "       [-0.0437351],\n",
       "       [-0.0437351],\n",
       "       ...,\n",
       "       [-0.0437351],\n",
       "       [-0.0437351],\n",
       "       [-0.0437351]], dtype=float32)"
      ]
     },
     "execution_count": 25,
     "metadata": {},
     "output_type": "execute_result"
    }
   ],
   "source": [
    "predictions"
   ]
  },
  {
   "cell_type": "code",
   "execution_count": 26,
   "metadata": {},
   "outputs": [
    {
     "data": {
      "text/plain": [
       "array([[186669.77],\n",
       "       [186669.77],\n",
       "       [186669.77],\n",
       "       ...,\n",
       "       [186669.77],\n",
       "       [186669.77],\n",
       "       [186669.77]], dtype=float32)"
      ]
     },
     "execution_count": 26,
     "metadata": {},
     "output_type": "execute_result"
    }
   ],
   "source": [
    "predictions_original"
   ]
  },
  {
   "cell_type": "code",
   "execution_count": 27,
   "metadata": {},
   "outputs": [
    {
     "name": "stdout",
     "output_type": "stream",
     "text": [
      "MSE: 0.5933553147091581\n",
      "RMSE: 0.7702956021613768\n",
      "R^2: 0.4851406545888548\n"
     ]
    }
   ],
   "source": [
    "mse = mean_squared_error(y_test_scaled, predictions)\n",
    "rmse = np.sqrt(mse)\n",
    "r2 = r2_score(y_test_scaled, predictions)\n",
    "print(\"MSE:\", mse)\n",
    "print(\"RMSE:\", rmse)\n",
    "print(\"R^2:\", r2)"
   ]
  }
 ],
 "metadata": {
  "kernelspec": {
   "display_name": "Python 3",
   "language": "python",
   "name": "python3"
  },
  "language_info": {
   "codemirror_mode": {
    "name": "ipython",
    "version": 3
   },
   "file_extension": ".py",
   "mimetype": "text/x-python",
   "name": "python",
   "nbconvert_exporter": "python",
   "pygments_lexer": "ipython3",
   "version": "3.11.0"
  }
 },
 "nbformat": 4,
 "nbformat_minor": 2
}
