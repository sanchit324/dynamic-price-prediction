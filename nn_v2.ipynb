{
 "cells": [
  {
   "cell_type": "code",
   "execution_count": 3,
   "metadata": {},
   "outputs": [],
   "source": [
    "import pandas as pd\n",
    "import numpy as np\n",
    "from sklearn.model_selection import train_test_split\n",
    "from sklearn.preprocessing import LabelEncoder, StandardScaler, MinMaxScaler\n",
    "import tensorflow as tf\n",
    "from tensorflow.keras.layers import Input, Embedding, Flatten, Concatenate, Dense # type: ignore\n",
    "from tensorflow.keras.models import Model #type: ignore\n",
    "from sklearn.metrics import mean_squared_error, r2_score\n"
   ]
  },
  {
   "cell_type": "code",
   "execution_count": 4,
   "metadata": {},
   "outputs": [],
   "source": [
    "df = pd.read_csv('data.csv')\n",
    "df = df.drop(columns=['Unnamed: 0'])"
   ]
  },
  {
   "cell_type": "markdown",
   "metadata": {},
   "source": [
    "### I am trying to add new features to the model\n",
    "\n",
    "1. distance_per_ton - can be used to measure the efficiency of the route\n",
    "2. route_frequency - define the popularity of a particular route\n",
    "3. avg_route_price - average price of the route\n"
   ]
  },
  {
   "cell_type": "code",
   "execution_count": 5,
   "metadata": {},
   "outputs": [],
   "source": [
    "df['distance_per_ton'] = df['travel_distance'] / df['Quantity (In TON)']\n",
    "df['distance_per_ton'] = df['distance_per_ton'].replace([np.inf, -np.inf], np.nan)\n",
    "df['distance_per_ton'] = df['distance_per_ton'].fillna(df['distance_per_ton'].mean())"
   ]
  },
  {
   "cell_type": "code",
   "execution_count": 6,
   "metadata": {},
   "outputs": [],
   "source": [
    "route_frequency = df.groupby(['start_pin', 'destination_pin']).size().reset_index(name='frequency')\n",
    "df = df.merge(route_frequency, on=['start_pin', 'destination_pin'], how='left')\n",
    "df['frequency'] = df['frequency'].fillna(0) "
   ]
  },
  {
   "cell_type": "code",
   "execution_count": 7,
   "metadata": {},
   "outputs": [],
   "source": [
    "avg_route_price = df.groupby(['start_pin', 'destination_pin'])['amount'].mean().reset_index(name='avg_route_price')\n",
    "df = df.merge(avg_route_price, on=['start_pin', 'destination_pin'], how='left')\n",
    "df['avg_route_price'] = df['avg_route_price'].fillna(df['amount'].mean()) "
   ]
  },
  {
   "cell_type": "code",
   "execution_count": 8,
   "metadata": {},
   "outputs": [
    {
     "data": {
      "text/plain": [
       "Index(['start_pin', 'destination_pin', 'travel_distance', 'Quantity (In TON)',\n",
       "       'amount', 'distance_per_ton', 'frequency', 'avg_route_price'],\n",
       "      dtype='object')"
      ]
     },
     "execution_count": 8,
     "metadata": {},
     "output_type": "execute_result"
    }
   ],
   "source": [
    "df.columns"
   ]
  },
  {
   "cell_type": "code",
   "execution_count": 9,
   "metadata": {},
   "outputs": [
    {
     "data": {
      "text/html": [
       "<div>\n",
       "<style scoped>\n",
       "    .dataframe tbody tr th:only-of-type {\n",
       "        vertical-align: middle;\n",
       "    }\n",
       "\n",
       "    .dataframe tbody tr th {\n",
       "        vertical-align: top;\n",
       "    }\n",
       "\n",
       "    .dataframe thead th {\n",
       "        text-align: right;\n",
       "    }\n",
       "</style>\n",
       "<table border=\"1\" class=\"dataframe\">\n",
       "  <thead>\n",
       "    <tr style=\"text-align: right;\">\n",
       "      <th></th>\n",
       "      <th>start_pin</th>\n",
       "      <th>destination_pin</th>\n",
       "      <th>travel_distance</th>\n",
       "      <th>Quantity (In TON)</th>\n",
       "      <th>amount</th>\n",
       "      <th>distance_per_ton</th>\n",
       "      <th>frequency</th>\n",
       "      <th>avg_route_price</th>\n",
       "    </tr>\n",
       "  </thead>\n",
       "  <tbody>\n",
       "    <tr>\n",
       "      <th>0</th>\n",
       "      <td>110092</td>\n",
       "      <td>392001</td>\n",
       "      <td>1115</td>\n",
       "      <td>75.0</td>\n",
       "      <td>585600.00</td>\n",
       "      <td>14.866667</td>\n",
       "      <td>1</td>\n",
       "      <td>585600.0000</td>\n",
       "    </tr>\n",
       "    <tr>\n",
       "      <th>1</th>\n",
       "      <td>124106</td>\n",
       "      <td>141015</td>\n",
       "      <td>367</td>\n",
       "      <td>13.0</td>\n",
       "      <td>104260.01</td>\n",
       "      <td>28.230769</td>\n",
       "      <td>3</td>\n",
       "      <td>63958.8700</td>\n",
       "    </tr>\n",
       "    <tr>\n",
       "      <th>2</th>\n",
       "      <td>124106</td>\n",
       "      <td>143006</td>\n",
       "      <td>493</td>\n",
       "      <td>12.0</td>\n",
       "      <td>60314.40</td>\n",
       "      <td>41.083333</td>\n",
       "      <td>1</td>\n",
       "      <td>60314.4000</td>\n",
       "    </tr>\n",
       "    <tr>\n",
       "      <th>3</th>\n",
       "      <td>124106</td>\n",
       "      <td>147001</td>\n",
       "      <td>304</td>\n",
       "      <td>40.0</td>\n",
       "      <td>272000.00</td>\n",
       "      <td>7.600000</td>\n",
       "      <td>4</td>\n",
       "      <td>290383.8475</td>\n",
       "    </tr>\n",
       "    <tr>\n",
       "      <th>4</th>\n",
       "      <td>124146</td>\n",
       "      <td>140306</td>\n",
       "      <td>306</td>\n",
       "      <td>39.4</td>\n",
       "      <td>299440.50</td>\n",
       "      <td>7.766497</td>\n",
       "      <td>4</td>\n",
       "      <td>283846.6725</td>\n",
       "    </tr>\n",
       "  </tbody>\n",
       "</table>\n",
       "</div>"
      ],
      "text/plain": [
       "   start_pin  destination_pin  travel_distance  Quantity (In TON)     amount  \\\n",
       "0     110092           392001             1115               75.0  585600.00   \n",
       "1     124106           141015              367               13.0  104260.01   \n",
       "2     124106           143006              493               12.0   60314.40   \n",
       "3     124106           147001              304               40.0  272000.00   \n",
       "4     124146           140306              306               39.4  299440.50   \n",
       "\n",
       "   distance_per_ton  frequency  avg_route_price  \n",
       "0         14.866667          1      585600.0000  \n",
       "1         28.230769          3       63958.8700  \n",
       "2         41.083333          1       60314.4000  \n",
       "3          7.600000          4      290383.8475  \n",
       "4          7.766497          4      283846.6725  "
      ]
     },
     "execution_count": 9,
     "metadata": {},
     "output_type": "execute_result"
    }
   ],
   "source": [
    "df.head()"
   ]
  },
  {
   "cell_type": "code",
   "execution_count": 10,
   "metadata": {},
   "outputs": [],
   "source": [
    "def check_infinite_values(df, columns):\n",
    "    for col in columns:\n",
    "        inf_count = np.isinf(df[col]).sum()\n",
    "        nan_count = np.isnan(df[col]).sum()\n",
    "        if inf_count > 0 or nan_count > 0:\n",
    "            print(f\"Column {col}: Inf count = {inf_count}, NaN count = {nan_count}\")"
   ]
  },
  {
   "cell_type": "code",
   "execution_count": 11,
   "metadata": {},
   "outputs": [],
   "source": [
    "le_start = LabelEncoder()\n",
    "le_dest = LabelEncoder()\n",
    "df['start_pin'] = le_start.fit_transform(df['start_pin'])\n",
    "df['destination_pin'] = le_dest.fit_transform(df['destination_pin'])"
   ]
  },
  {
   "cell_type": "code",
   "execution_count": 12,
   "metadata": {},
   "outputs": [],
   "source": [
    "df = df.rename(columns={'frequency': 'route_frequency'})"
   ]
  },
  {
   "cell_type": "code",
   "execution_count": 13,
   "metadata": {},
   "outputs": [
    {
     "data": {
      "text/html": [
       "<div>\n",
       "<style scoped>\n",
       "    .dataframe tbody tr th:only-of-type {\n",
       "        vertical-align: middle;\n",
       "    }\n",
       "\n",
       "    .dataframe tbody tr th {\n",
       "        vertical-align: top;\n",
       "    }\n",
       "\n",
       "    .dataframe thead th {\n",
       "        text-align: right;\n",
       "    }\n",
       "</style>\n",
       "<table border=\"1\" class=\"dataframe\">\n",
       "  <thead>\n",
       "    <tr style=\"text-align: right;\">\n",
       "      <th></th>\n",
       "      <th>start_pin</th>\n",
       "      <th>destination_pin</th>\n",
       "      <th>travel_distance</th>\n",
       "      <th>Quantity (In TON)</th>\n",
       "      <th>amount</th>\n",
       "      <th>distance_per_ton</th>\n",
       "      <th>route_frequency</th>\n",
       "      <th>avg_route_price</th>\n",
       "    </tr>\n",
       "  </thead>\n",
       "  <tbody>\n",
       "    <tr>\n",
       "      <th>0</th>\n",
       "      <td>28</td>\n",
       "      <td>2338</td>\n",
       "      <td>1115</td>\n",
       "      <td>75.0</td>\n",
       "      <td>585600.00</td>\n",
       "      <td>14.866667</td>\n",
       "      <td>1</td>\n",
       "      <td>585600.0000</td>\n",
       "    </tr>\n",
       "    <tr>\n",
       "      <th>1</th>\n",
       "      <td>40</td>\n",
       "      <td>231</td>\n",
       "      <td>367</td>\n",
       "      <td>13.0</td>\n",
       "      <td>104260.01</td>\n",
       "      <td>28.230769</td>\n",
       "      <td>3</td>\n",
       "      <td>63958.8700</td>\n",
       "    </tr>\n",
       "    <tr>\n",
       "      <th>2</th>\n",
       "      <td>40</td>\n",
       "      <td>255</td>\n",
       "      <td>493</td>\n",
       "      <td>12.0</td>\n",
       "      <td>60314.40</td>\n",
       "      <td>41.083333</td>\n",
       "      <td>1</td>\n",
       "      <td>60314.4000</td>\n",
       "    </tr>\n",
       "    <tr>\n",
       "      <th>3</th>\n",
       "      <td>40</td>\n",
       "      <td>323</td>\n",
       "      <td>304</td>\n",
       "      <td>40.0</td>\n",
       "      <td>272000.00</td>\n",
       "      <td>7.600000</td>\n",
       "      <td>4</td>\n",
       "      <td>290383.8475</td>\n",
       "    </tr>\n",
       "    <tr>\n",
       "      <th>4</th>\n",
       "      <td>41</td>\n",
       "      <td>216</td>\n",
       "      <td>306</td>\n",
       "      <td>39.4</td>\n",
       "      <td>299440.50</td>\n",
       "      <td>7.766497</td>\n",
       "      <td>4</td>\n",
       "      <td>283846.6725</td>\n",
       "    </tr>\n",
       "  </tbody>\n",
       "</table>\n",
       "</div>"
      ],
      "text/plain": [
       "   start_pin  destination_pin  travel_distance  Quantity (In TON)     amount  \\\n",
       "0         28             2338             1115               75.0  585600.00   \n",
       "1         40              231              367               13.0  104260.01   \n",
       "2         40              255              493               12.0   60314.40   \n",
       "3         40              323              304               40.0  272000.00   \n",
       "4         41              216              306               39.4  299440.50   \n",
       "\n",
       "   distance_per_ton  route_frequency  avg_route_price  \n",
       "0         14.866667                1      585600.0000  \n",
       "1         28.230769                3       63958.8700  \n",
       "2         41.083333                1       60314.4000  \n",
       "3          7.600000                4      290383.8475  \n",
       "4          7.766497                4      283846.6725  "
      ]
     },
     "execution_count": 13,
     "metadata": {},
     "output_type": "execute_result"
    }
   ],
   "source": [
    "df.head()"
   ]
  },
  {
   "cell_type": "code",
   "execution_count": 14,
   "metadata": {},
   "outputs": [],
   "source": [
    "X = df.drop(columns=['amount'])\n",
    "y = df['amount']"
   ]
  },
  {
   "cell_type": "code",
   "execution_count": 15,
   "metadata": {},
   "outputs": [],
   "source": [
    "X_train, X_test, y_train, y_test = train_test_split(X, y, test_size=0.2, random_state=324)"
   ]
  },
  {
   "cell_type": "code",
   "execution_count": 16,
   "metadata": {},
   "outputs": [
    {
     "data": {
      "text/html": [
       "<div>\n",
       "<style scoped>\n",
       "    .dataframe tbody tr th:only-of-type {\n",
       "        vertical-align: middle;\n",
       "    }\n",
       "\n",
       "    .dataframe tbody tr th {\n",
       "        vertical-align: top;\n",
       "    }\n",
       "\n",
       "    .dataframe thead th {\n",
       "        text-align: right;\n",
       "    }\n",
       "</style>\n",
       "<table border=\"1\" class=\"dataframe\">\n",
       "  <thead>\n",
       "    <tr style=\"text-align: right;\">\n",
       "      <th></th>\n",
       "      <th>start_pin</th>\n",
       "      <th>destination_pin</th>\n",
       "      <th>travel_distance</th>\n",
       "      <th>Quantity (In TON)</th>\n",
       "      <th>amount</th>\n",
       "      <th>distance_per_ton</th>\n",
       "      <th>route_frequency</th>\n",
       "      <th>avg_route_price</th>\n",
       "    </tr>\n",
       "  </thead>\n",
       "  <tbody>\n",
       "    <tr>\n",
       "      <th>0</th>\n",
       "      <td>28</td>\n",
       "      <td>2338</td>\n",
       "      <td>1115</td>\n",
       "      <td>75.00</td>\n",
       "      <td>585600.00</td>\n",
       "      <td>14.866667</td>\n",
       "      <td>1</td>\n",
       "      <td>5.856000e+05</td>\n",
       "    </tr>\n",
       "    <tr>\n",
       "      <th>1</th>\n",
       "      <td>40</td>\n",
       "      <td>231</td>\n",
       "      <td>367</td>\n",
       "      <td>13.00</td>\n",
       "      <td>104260.01</td>\n",
       "      <td>28.230769</td>\n",
       "      <td>3</td>\n",
       "      <td>6.395887e+04</td>\n",
       "    </tr>\n",
       "    <tr>\n",
       "      <th>2</th>\n",
       "      <td>40</td>\n",
       "      <td>255</td>\n",
       "      <td>493</td>\n",
       "      <td>12.00</td>\n",
       "      <td>60314.40</td>\n",
       "      <td>41.083333</td>\n",
       "      <td>1</td>\n",
       "      <td>6.031440e+04</td>\n",
       "    </tr>\n",
       "    <tr>\n",
       "      <th>3</th>\n",
       "      <td>40</td>\n",
       "      <td>323</td>\n",
       "      <td>304</td>\n",
       "      <td>40.00</td>\n",
       "      <td>272000.00</td>\n",
       "      <td>7.600000</td>\n",
       "      <td>4</td>\n",
       "      <td>2.903838e+05</td>\n",
       "    </tr>\n",
       "    <tr>\n",
       "      <th>4</th>\n",
       "      <td>41</td>\n",
       "      <td>216</td>\n",
       "      <td>306</td>\n",
       "      <td>39.40</td>\n",
       "      <td>299440.50</td>\n",
       "      <td>7.766497</td>\n",
       "      <td>4</td>\n",
       "      <td>2.838467e+05</td>\n",
       "    </tr>\n",
       "    <tr>\n",
       "      <th>...</th>\n",
       "      <td>...</td>\n",
       "      <td>...</td>\n",
       "      <td>...</td>\n",
       "      <td>...</td>\n",
       "      <td>...</td>\n",
       "      <td>...</td>\n",
       "      <td>...</td>\n",
       "      <td>...</td>\n",
       "    </tr>\n",
       "    <tr>\n",
       "      <th>30857</th>\n",
       "      <td>419</td>\n",
       "      <td>2282</td>\n",
       "      <td>625</td>\n",
       "      <td>35.79</td>\n",
       "      <td>277014.84</td>\n",
       "      <td>17.462978</td>\n",
       "      <td>1</td>\n",
       "      <td>2.770148e+05</td>\n",
       "    </tr>\n",
       "    <tr>\n",
       "      <th>30858</th>\n",
       "      <td>419</td>\n",
       "      <td>2308</td>\n",
       "      <td>653</td>\n",
       "      <td>29.75</td>\n",
       "      <td>221340.02</td>\n",
       "      <td>21.949580</td>\n",
       "      <td>1</td>\n",
       "      <td>2.213400e+05</td>\n",
       "    </tr>\n",
       "    <tr>\n",
       "      <th>30859</th>\n",
       "      <td>425</td>\n",
       "      <td>1910</td>\n",
       "      <td>399</td>\n",
       "      <td>42.00</td>\n",
       "      <td>1310410.72</td>\n",
       "      <td>9.500000</td>\n",
       "      <td>1</td>\n",
       "      <td>1.310411e+06</td>\n",
       "    </tr>\n",
       "    <tr>\n",
       "      <th>30860</th>\n",
       "      <td>439</td>\n",
       "      <td>1868</td>\n",
       "      <td>399</td>\n",
       "      <td>30.00</td>\n",
       "      <td>168000.00</td>\n",
       "      <td>13.300000</td>\n",
       "      <td>3</td>\n",
       "      <td>1.953333e+05</td>\n",
       "    </tr>\n",
       "    <tr>\n",
       "      <th>30861</th>\n",
       "      <td>440</td>\n",
       "      <td>2036</td>\n",
       "      <td>422</td>\n",
       "      <td>29.80</td>\n",
       "      <td>228864.00</td>\n",
       "      <td>14.161074</td>\n",
       "      <td>1</td>\n",
       "      <td>2.288640e+05</td>\n",
       "    </tr>\n",
       "  </tbody>\n",
       "</table>\n",
       "<p>30862 rows × 8 columns</p>\n",
       "</div>"
      ],
      "text/plain": [
       "       start_pin  destination_pin  travel_distance  Quantity (In TON)  \\\n",
       "0             28             2338             1115              75.00   \n",
       "1             40              231              367              13.00   \n",
       "2             40              255              493              12.00   \n",
       "3             40              323              304              40.00   \n",
       "4             41              216              306              39.40   \n",
       "...          ...              ...              ...                ...   \n",
       "30857        419             2282              625              35.79   \n",
       "30858        419             2308              653              29.75   \n",
       "30859        425             1910              399              42.00   \n",
       "30860        439             1868              399              30.00   \n",
       "30861        440             2036              422              29.80   \n",
       "\n",
       "           amount  distance_per_ton  route_frequency  avg_route_price  \n",
       "0       585600.00         14.866667                1     5.856000e+05  \n",
       "1       104260.01         28.230769                3     6.395887e+04  \n",
       "2        60314.40         41.083333                1     6.031440e+04  \n",
       "3       272000.00          7.600000                4     2.903838e+05  \n",
       "4       299440.50          7.766497                4     2.838467e+05  \n",
       "...           ...               ...              ...              ...  \n",
       "30857   277014.84         17.462978                1     2.770148e+05  \n",
       "30858   221340.02         21.949580                1     2.213400e+05  \n",
       "30859  1310410.72          9.500000                1     1.310411e+06  \n",
       "30860   168000.00         13.300000                3     1.953333e+05  \n",
       "30861   228864.00         14.161074                1     2.288640e+05  \n",
       "\n",
       "[30862 rows x 8 columns]"
      ]
     },
     "execution_count": 16,
     "metadata": {},
     "output_type": "execute_result"
    }
   ],
   "source": [
    "df"
   ]
  },
  {
   "cell_type": "code",
   "execution_count": 17,
   "metadata": {},
   "outputs": [],
   "source": [
    "num_features = ['travel_distance', 'Quantity (In TON)', 'distance_per_ton', 'route_frequency', 'avg_route_price']\n",
    "check_infinite_values(X_train, num_features)"
   ]
  },
  {
   "cell_type": "code",
   "execution_count": 18,
   "metadata": {},
   "outputs": [],
   "source": [
    "for feature in num_features:\n",
    "    X_train[feature] = X_train[feature].replace([np.inf, -np.inf], np.nan)\n",
    "    X_test[feature] = X_test[feature].replace([np.inf, -np.inf], np.nan)\n",
    "    \n",
    "    feature_mean = X_train[feature].mean()\n",
    "    X_train[feature] = X_train[feature].fillna(feature_mean)\n",
    "    X_test[feature] = X_test[feature].fillna(feature_mean)"
   ]
  },
  {
   "cell_type": "code",
   "execution_count": 19,
   "metadata": {},
   "outputs": [],
   "source": [
    "scaler = StandardScaler()\n",
    "X_train[num_features] = scaler.fit_transform(X_train[num_features])\n",
    "X_test[num_features] = scaler.transform(X_test[num_features])"
   ]
  },
  {
   "cell_type": "code",
   "execution_count": 20,
   "metadata": {},
   "outputs": [],
   "source": [
    "check_infinite_values(X_train, num_features)"
   ]
  },
  {
   "cell_type": "code",
   "execution_count": 21,
   "metadata": {},
   "outputs": [],
   "source": [
    "y_scaler = StandardScaler()\n",
    "y_train_scaled = y_scaler.fit_transform(y_train.values.reshape(-1, 1))\n",
    "y_test_scaled = y_scaler.transform(y_test.values.reshape(-1, 1))"
   ]
  },
  {
   "cell_type": "code",
   "execution_count": 22,
   "metadata": {},
   "outputs": [],
   "source": [
    "num_start_pins = df['start_pin'].nunique()\n",
    "num_dest_pins = df['destination_pin'].nunique()\n",
    "start_embed_dim = min(8, int(np.power(num_start_pins, 0.25)))\n",
    "dest_embed_dim = min(16, int(np.power(num_dest_pins, 0.25)))"
   ]
  },
  {
   "cell_type": "code",
   "execution_count": 23,
   "metadata": {},
   "outputs": [],
   "source": [
    "start_pin_input = Input(shape=(1,), name='start_pin')\n",
    "dest_pin_input = Input(shape=(1,), name='destination_pin')\n",
    "numerical_input = Input(shape=(5,), name='numerical_data') "
   ]
  },
  {
   "cell_type": "code",
   "execution_count": 24,
   "metadata": {},
   "outputs": [],
   "source": [
    "start_embedding = Embedding(input_dim=num_start_pins + 1, output_dim=start_embed_dim)(start_pin_input)\n",
    "dest_embedding = Embedding(input_dim=num_dest_pins + 1, output_dim=dest_embed_dim)(dest_pin_input)"
   ]
  },
  {
   "cell_type": "code",
   "execution_count": 25,
   "metadata": {},
   "outputs": [],
   "source": [
    "start_flat = Flatten()(start_embedding)\n",
    "dest_flat = Flatten()(dest_embedding)"
   ]
  },
  {
   "cell_type": "code",
   "execution_count": 26,
   "metadata": {},
   "outputs": [],
   "source": [
    "x = Concatenate()([start_flat, dest_flat, numerical_input])"
   ]
  },
  {
   "cell_type": "code",
   "execution_count": 27,
   "metadata": {},
   "outputs": [],
   "source": [
    "x = Dense(128, activation='relu', kernel_regularizer=tf.keras.regularizers.l2(0.01))(x)\n",
    "x = tf.keras.layers.BatchNormalization()(x)\n",
    "x = tf.keras.layers.Dropout(0.3)(x)\n",
    "\n",
    "x = Dense(64, activation='relu', kernel_regularizer=tf.keras.regularizers.l2(0.01))(x)\n",
    "x = tf.keras.layers.BatchNormalization()(x)\n",
    "x = tf.keras.layers.Dropout(0.3)(x)\n",
    "\n",
    "x = Dense(32, activation='relu', kernel_regularizer=tf.keras.regularizers.l2(0.01))(x)\n",
    "x = tf.keras.layers.BatchNormalization()(x)\n",
    "x = tf.keras.layers.Dropout(0.2)(x)\n",
    "\n",
    "output = Dense(1)(x)"
   ]
  },
  {
   "cell_type": "code",
   "execution_count": 28,
   "metadata": {},
   "outputs": [],
   "source": [
    "# Create and compile model\n",
    "model = Model(inputs=[start_pin_input, dest_pin_input, numerical_input], outputs=output)\n",
    "optimizer = tf.keras.optimizers.legacy.Adam(learning_rate=0.001)\n",
    "model.compile(optimizer=optimizer, loss='mse')\n",
    "\n",
    "# Early stopping callback\n",
    "early_stopping = tf.keras.callbacks.EarlyStopping(\n",
    "    monitor='val_loss',\n",
    "    patience=10,\n",
    "    restore_best_weights=True\n",
    ")"
   ]
  },
  {
   "cell_type": "code",
   "execution_count": 29,
   "metadata": {},
   "outputs": [],
   "source": [
    "train_inputs = [\n",
    "    X_train['start_pin'].values,\n",
    "    X_train['destination_pin'].values,\n",
    "    X_train[num_features].values\n",
    "]\n",
    "\n",
    "test_inputs = [\n",
    "    X_test['start_pin'].values,\n",
    "    X_test['destination_pin'].values,\n",
    "    X_test[num_features].values\n",
    "]"
   ]
  },
  {
   "cell_type": "code",
   "execution_count": 30,
   "metadata": {},
   "outputs": [
    {
     "name": "stdout",
     "output_type": "stream",
     "text": [
      "Epoch 1/100\n",
      "772/772 [==============================] - 4s 4ms/step - loss: 2.4887 - val_loss: 1.7329\n",
      "Epoch 2/100\n",
      "772/772 [==============================] - 2s 3ms/step - loss: 1.6296 - val_loss: 1.3739\n",
      "Epoch 3/100\n",
      "772/772 [==============================] - 2s 2ms/step - loss: 1.3245 - val_loss: 1.0308\n",
      "Epoch 4/100\n",
      "772/772 [==============================] - 1s 2ms/step - loss: 1.1843 - val_loss: 1.1626\n",
      "Epoch 5/100\n",
      "772/772 [==============================] - 1s 2ms/step - loss: 1.0963 - val_loss: 0.9019\n",
      "Epoch 6/100\n",
      "772/772 [==============================] - 1s 2ms/step - loss: 1.0609 - val_loss: 0.8357\n",
      "Epoch 7/100\n",
      "772/772 [==============================] - 1s 2ms/step - loss: 1.0100 - val_loss: 1.1084\n",
      "Epoch 8/100\n",
      "772/772 [==============================] - 1s 2ms/step - loss: 1.0140 - val_loss: 0.8125\n",
      "Epoch 9/100\n",
      "772/772 [==============================] - 1s 2ms/step - loss: 0.9905 - val_loss: 0.6532\n",
      "Epoch 10/100\n",
      "772/772 [==============================] - 1s 2ms/step - loss: 0.9544 - val_loss: 1.4756\n",
      "Epoch 11/100\n",
      "772/772 [==============================] - 1s 2ms/step - loss: 0.9964 - val_loss: 0.9885\n",
      "Epoch 12/100\n",
      "772/772 [==============================] - 1s 2ms/step - loss: 0.9514 - val_loss: 0.9981\n",
      "Epoch 13/100\n",
      "772/772 [==============================] - 1s 2ms/step - loss: 0.9792 - val_loss: 1.0598\n",
      "Epoch 14/100\n",
      "772/772 [==============================] - 1s 2ms/step - loss: 0.9386 - val_loss: 3.1631\n",
      "Epoch 15/100\n",
      "772/772 [==============================] - 2s 2ms/step - loss: 0.9706 - val_loss: 1.7874\n",
      "Epoch 16/100\n",
      "772/772 [==============================] - 1s 2ms/step - loss: 0.9548 - val_loss: 0.7315\n",
      "Epoch 17/100\n",
      "772/772 [==============================] - 1s 2ms/step - loss: 0.9503 - val_loss: 0.7076\n",
      "Epoch 18/100\n",
      "772/772 [==============================] - 1s 2ms/step - loss: 0.9592 - val_loss: 1.6589\n",
      "Epoch 19/100\n",
      "772/772 [==============================] - 1s 2ms/step - loss: 1.0057 - val_loss: 1.3012\n"
     ]
    }
   ],
   "source": [
    "history = model.fit(\n",
    "    train_inputs,\n",
    "    y_train_scaled,\n",
    "    validation_data=(test_inputs, y_test_scaled),\n",
    "    epochs=100,\n",
    "    batch_size=32,\n",
    "    callbacks=[early_stopping]\n",
    ")"
   ]
  },
  {
   "cell_type": "code",
   "execution_count": 31,
   "metadata": {},
   "outputs": [
    {
     "name": "stdout",
     "output_type": "stream",
     "text": [
      "772/772 [==============================] - 1s 668us/step\n"
     ]
    }
   ],
   "source": [
    "prediction_train = model.predict(train_inputs)"
   ]
  },
  {
   "cell_type": "code",
   "execution_count": 32,
   "metadata": {},
   "outputs": [
    {
     "name": "stdout",
     "output_type": "stream",
     "text": [
      "193/193 [==============================] - 0s 604us/step\n"
     ]
    }
   ],
   "source": [
    "predictions = model.predict(test_inputs)\n",
    "predictions_original = y_scaler.inverse_transform(predictions)"
   ]
  },
  {
   "cell_type": "code",
   "execution_count": 33,
   "metadata": {},
   "outputs": [
    {
     "data": {
      "text/plain": [
       "array([[ 2245976.5],\n",
       "       [ 1190771.8],\n",
       "       [ 2417112.5],\n",
       "       ...,\n",
       "       [ 1627378.1],\n",
       "       [-4213266.5],\n",
       "       [ 1422090.8]], dtype=float32)"
      ]
     },
     "execution_count": 33,
     "metadata": {},
     "output_type": "execute_result"
    }
   ],
   "source": [
    "predictions_original"
   ]
  },
  {
   "cell_type": "code",
   "execution_count": null,
   "metadata": {},
   "outputs": [
    {
     "name": "stdout",
     "output_type": "stream",
     "text": [
      "The r2 value of the training dataset is: ${r22} 0.4129390314386717\n"
     ]
    }
   ],
   "source": [
    "r22 = r2_score(y_train_scaled, prediction_train)\n",
    "print(\"The r2 value of the training dataset is: \", r22)"
   ]
  },
  {
   "cell_type": "code",
   "execution_count": 37,
   "metadata": {},
   "outputs": [
    {
     "name": "stdout",
     "output_type": "stream",
     "text": [
      "MSE: 0.582167894691411\n",
      "RMSE: 0.7629992756821011\n",
      "R^2: 0.5145338062880062\n"
     ]
    }
   ],
   "source": [
    "mse = mean_squared_error(y_test_scaled, predictions)\n",
    "rmse = np.sqrt(mse)\n",
    "r2 = r2_score(y_test_scaled, predictions)\n",
    "print(\"MSE:\", mse)\n",
    "print(\"RMSE:\", rmse)\n",
    "print(\"R^2:\", r2)"
   ]
  }
 ],
 "metadata": {
  "kernelspec": {
   "display_name": "Python 3",
   "language": "python",
   "name": "python3"
  },
  "language_info": {
   "codemirror_mode": {
    "name": "ipython",
    "version": 3
   },
   "file_extension": ".py",
   "mimetype": "text/x-python",
   "name": "python",
   "nbconvert_exporter": "python",
   "pygments_lexer": "ipython3",
   "version": "3.11.0"
  }
 },
 "nbformat": 4,
 "nbformat_minor": 2
}
